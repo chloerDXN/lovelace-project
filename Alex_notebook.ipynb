{
 "cells": [
  {
   "cell_type": "code",
   "execution_count": 244,
   "metadata": {},
   "outputs": [],
   "source": [
    "# Import libraries\n",
    "import requests\n",
    "import pandas as pd\n",
    "import numpy as np\n",
    "\n",
    "from bs4 import BeautifulSoup\n",
    "import os, os.path as osp\n",
    "import re"
   ]
  },
  {
   "cell_type": "code",
   "execution_count": 321,
   "metadata": {},
   "outputs": [],
   "source": [
    "DATA_FOLDER = 'data'\n",
    "SAMPLE_DATA_FOLDER = DATA_FOLDER + '/htmlSample/'\n",
    "\n",
    "#SAMPLE_DATA_FOLDER='htmlSample/'\n",
    "SAMPLE_FILE='data/htmlSample/ff6da2b8d426c56ae77beda595bdcfea.html' #Recipe\n",
    "SAMPLE_FILE_2='data/htmlSample/ff727d984c9c0048def173c4c97ab52e.html'\n",
    "SAMPLE_FILE_3='data/htmlSample/ff6f004f00135caa7d6f91b27cbd3a4a.html'\n",
    "SAMPLE_FILE_4='data/htmlSample/ff70a9eb4e8de4c2f72f281993ab7a55.html'\n",
    "SAMPLE_FILE_5='data/htmlSample/ff7208a2993418a1b6d50c88b279f229.html'\n",
    "SAMPLE_FILE_6='data/htmlSample/ff710019731d2e23f8fb6804c716685c.html'"
   ]
  },
  {
   "cell_type": "code",
   "execution_count": 322,
   "metadata": {},
   "outputs": [],
   "source": [
    "meat_products = ['meat', 'beef', 'chicken', 'fish', 'vanilla','basil','lamb','Lamb','flour','walnuts']\n",
    "units = ['pound','gram','oz','kg','kilogram' ]"
   ]
  },
  {
   "cell_type": "code",
   "execution_count": 325,
   "metadata": {
    "scrolled": true
   },
   "outputs": [
    {
     "name": "stdout",
     "output_type": "stream",
     "text": [
      "\n",
      "\tNut Horns Recipe - Allrecipes.com\n",
      "\n",
      "This recipe is from Allrecipes\n",
      "alternative format used\n"
     ]
    },
    {
     "data": {
      "text/plain": [
       "['\\n                    8 cups all-purpose flour',\n",
       " '\\n                    1 1/2 teaspoons salt',\n",
       " '\\n                    2 cups shortening',\n",
       " '\\n                    4 eggs, beaten',\n",
       " '\\n                    1 (12 fluid ounce) can evaporated milk',\n",
       " '\\n                    1 (0.6 ounce) cake compressed fresh yeast',\n",
       " '\\n                    1/4 cup white sugar',\n",
       " '\\n                    \\xa0',\n",
       " '\\n                    8 cups chopped walnuts',\n",
       " '\\n                    2 cups white sugar',\n",
       " '\\n                    2 teaspoons ground cinnamon',\n",
       " '\\n                    1/2 cup margarine',\n",
       " '\\n                    1 egg, beaten',\n",
       " '\\n                    1/3 cup milk',\n",
       " '\\n                    1 cup white sugar for decoration']"
      ]
     },
     "execution_count": 325,
     "metadata": {},
     "output_type": "execute_result"
    }
   ],
   "source": [
    "#code to run for each html file\n",
    "with open(SAMPLE_FILE_4) as f:\n",
    "    page = f.read()\n",
    "    soup = BeautifulSoup(page, 'html.parser')\n",
    "    print(soup.title.string)\n",
    "    ingredient_wrappers,is_recipe, ingredients, ingredient_amounts = analyse_recipe(soup,page)\n",
    "    #print(ingredient_wrapping)\n",
    "ingredients\n"
   ]
  },
  {
   "cell_type": "code",
   "execution_count": 326,
   "metadata": {},
   "outputs": [
    {
     "data": {
      "text/plain": [
       "['\\n                    8 cups all-purpose flour',\n",
       " '\\n                    1 1/2 teaspoons salt',\n",
       " '\\n                    2 cups shortening',\n",
       " '\\n                    4 eggs, beaten',\n",
       " '\\n                    1 (12 fluid ounce) can evaporated milk',\n",
       " '\\n                    1 (0.6 ounce) cake compressed fresh yeast',\n",
       " '\\n                    1/4 cup white sugar',\n",
       " '\\n                    \\xa0',\n",
       " '\\n                    8 cups chopped walnuts',\n",
       " '\\n                    2 cups white sugar',\n",
       " '\\n                    2 teaspoons ground cinnamon',\n",
       " '\\n                    1/2 cup margarine',\n",
       " '\\n                    1 egg, beaten',\n",
       " '\\n                    1/3 cup milk',\n",
       " '\\n                    1 cup white sugar for decoration',\n",
       " '3 pounds beef']"
      ]
     },
     "execution_count": 326,
     "metadata": {},
     "output_type": "execute_result"
    }
   ],
   "source": [
    "ingredients.append('3 pounds beef') #added on beef to test\n",
    "ingredients"
   ]
  },
  {
   "cell_type": "code",
   "execution_count": 331,
   "metadata": {},
   "outputs": [
    {
     "name": "stdout",
     "output_type": "stream",
     "text": [
      "['flour', 'walnuts', 'beef']\n",
      "['\\n                    8 cups all-purpose flour', '\\n                    8 cups chopped walnuts', '3 pounds beef']\n",
      "------------\n",
      "Ingredient:  \n",
      "                    8 cups all-purpose flour\n",
      "Extracting amount:\n",
      "quantity= 8\n",
      "Extracting units:\n",
      "Units not recognized for: \n",
      "                    8 cups all-purpose flour\n",
      "------------\n",
      "Ingredient:  \n",
      "                    8 cups chopped walnuts\n",
      "Extracting amount:\n",
      "quantity= 8\n",
      "Extracting units:\n",
      "Units not recognized for: \n",
      "                    8 cups chopped walnuts\n",
      "------------\n",
      "Ingredient:  3 pounds beef\n",
      "Extracting amount:\n",
      "quantity= 3\n",
      "Extracting units:\n",
      "Quantity in pound converted to \n",
      "1.3605442176870748 kg\n"
     ]
    },
    {
     "data": {
      "text/plain": [
       "(['\\n                    8 cups all-purpose flour',\n",
       "  '\\n                    8 cups chopped walnuts',\n",
       "  '3 pounds beef'],\n",
       " ['flour', 'walnuts', 'beef'],\n",
       " [0, 0, 1.3605442176870748],\n",
       " True)"
      ]
     },
     "execution_count": 331,
     "metadata": {},
     "output_type": "execute_result"
    }
   ],
   "source": [
    "def extract_amount(ings, ing_amnt):\n",
    "    \"\"\"\n",
    "    takes as argument the ingredients and ingredient amounts (if available)\n",
    "    returns a list of all meat ingredients in the recipe, the amount of the ingredient in kg and a boolean contains_meat\n",
    "    \"\"\"\n",
    "\n",
    "    meat_ingredients_full = []\n",
    "    meat_ingredients_base = []\n",
    "    ing_quant=[]\n",
    "    \n",
    "    contains_meat=False\n",
    "    #Find meat ingredients\n",
    "    for i in ings:\n",
    "        for meat_product in meat_products:\n",
    "            if i != None:\n",
    "                if meat_product in i:\n",
    "                    contains_meat=True\n",
    "                    meat_ingredients_full.append(i)\n",
    "                    meat_ingredients_base.append(meat_product)\n",
    "\n",
    "    print(meat_ingredients_base)\n",
    "    print(meat_ingredients_full)\n",
    "    #extract amount if amount is not directly available\n",
    "    if not ing_amnt: #if amount is empty\n",
    "        for meat_i in meat_ingredients_full:\n",
    "            meat_i_quant_kg=0\n",
    "            print('------------')\n",
    "            print('Ingredient: ', meat_i)\n",
    "            \n",
    "            print('Extracting amount:')\n",
    "            #amount=re.match(r'\\d', meat_i).group()\n",
    "            amount=re.search(r'\\d', meat_i).group()\n",
    "\n",
    "            print('quantity=',amount)\n",
    "            \n",
    "            print('Extracting units:')\n",
    "            for u in units: \n",
    "                if u in meat_i:\n",
    "                    print('Quantity in '+ u + ' converted to ')\n",
    "                    meat_i_quant_kg = convert_to_kg(float(amount),u)\n",
    "            ing_quant.append(meat_i_quant_kg)\n",
    "            if meat_i_quant_kg==0:\n",
    "                print('Units not recognized for: '+meat_i)\n",
    "                \n",
    "                \n",
    "    #else:# if amount is directly available\n",
    "    #    for amnt\n",
    "    return meat_ingredients_full, meat_ingredients_base, ing_quant,contains_meat\n",
    "\n",
    "\n",
    "    \n",
    "extract_amount(ingredients,ingredient_amounts)\n"
   ]
  },
  {
   "cell_type": "code",
   "execution_count": 332,
   "metadata": {},
   "outputs": [
    {
     "name": "stdout",
     "output_type": "stream",
     "text": [
      "0.02834949254408346 kg\n"
     ]
    },
    {
     "data": {
      "text/plain": [
       "0.02834949254408346"
      ]
     },
     "execution_count": 332,
     "metadata": {},
     "output_type": "execute_result"
    }
   ],
   "source": [
    "measurements = ['pound','pounds','grams','gram','oz','kg','kilogram']\n",
    "\n",
    "def convert_to_kg(quant, unit):\n",
    "    if (unit=='kilogram') or (unit=='kg'):\n",
    "        amnt_kg=quant\n",
    "        print(quant,'kg')\n",
    "    elif (unit=='pound') or (unit=='lb') or (unit=='lbs') or (unit=='pounds'):\n",
    "        amnt_kg=quant/2.205\n",
    "        print(amnt_kg,'kg')\n",
    "    elif(unit=='g') or (unit=='gram') or (unit =='grams'):\n",
    "        amnt_kg=quant/1000\n",
    "        print(amnt_kg,'kg')     \n",
    "    elif(unit=='oz') or (unit=='ounce'):\n",
    "        amnt_kg=quant/35.274\n",
    "        print(amnt_kg, 'kg')\n",
    "    return(amnt_kg)\n",
    "    \n",
    "convert_to_kg(1,'oz')"
   ]
  },
  {
   "cell_type": "code",
   "execution_count": 320,
   "metadata": {},
   "outputs": [],
   "source": [
    "def analyse_recipe(soup, page):\n",
    "    \"\"\"\n",
    "    takes soup, page as argument\n",
    "    returns ingredientwrapper, s=spacer\n",
    "    \"\"\"\n",
    "    ings = []\n",
    "    ing_amnts = []\n",
    "    if 'Allrecipes' in soup.title.string:\n",
    "        print('This recipe is from Allrecipes')\n",
    "        \n",
    "        ing_wrap=soup.find_all(itemprop=\"recipeIngredient\")\n",
    "        if not ing_wrap:\n",
    "            print('alternative format used')\n",
    "            ing_wrap=soup.find_all('li', class_=\"plaincharacterwrap ingredient\")\n",
    "            for ing in ing_wrap:\n",
    "                ings.append(ing.text)\n",
    "\n",
    "        else:\n",
    "            for ing in ing_wrap:\n",
    "                ing_amnts.append(ing.find(itemprop='amount').text)\n",
    "                ings.append(ing.find(itemprop='name').text)\n",
    "            \n",
    "        is_recipe = True\n",
    "        \n",
    "    elif 'Epicurious' in soup.title.string:\n",
    "        print('This recipe is from Epicurious')\n",
    "        ing_wrap=soup.find('div', id=\"ingredients\")\n",
    "        is_recipe=True\n",
    "        for ing in ing_wrap:\n",
    "            ings.append(ing.string)\n",
    "\n",
    "\n",
    "    elif 'MyRecipes' in soup.title.string:\n",
    "        print('This recipe is from MyRecipes')\n",
    "        ing_wrap=soup.find_all(itemprop=\"ingredient\")\n",
    "        is_recipe = True\n",
    "        for ing in ing_wrap:\n",
    "            ings.append(ing.getText())\n",
    "    # this really has to be analyzed more closely!!\n",
    "    else:\n",
    "        is_recipe = False\n",
    "        ing_wrap=None\n",
    "\n",
    "    return ing_wrap, is_recipe, ings, ing_amnts\n",
    "\n"
   ]
  },
  {
   "cell_type": "code",
   "execution_count": 215,
   "metadata": {},
   "outputs": [
    {
     "name": "stdout",
     "output_type": "stream",
     "text": [
      "1\n"
     ]
    }
   ],
   "source": [
    "#NEED TO MODIFY LOOP BELOW"
   ]
  },
  {
   "cell_type": "code",
   "execution_count": 80,
   "metadata": {
    "scrolled": false
   },
   "outputs": [
    {
     "name": "stdout",
     "output_type": "stream",
     "text": [
      "------------------------------------\n",
      "This recipe is from MyRecipes\n",
      "is recipe:  True\n",
      "enter\n",
      "Total number of ingredients: 16\n",
      "Title:  Red Raspberry Velvet Cake Recipe | MyRecipes.com\n",
      "filename:  ff6da2b8d426c56ae77beda595bdcfea.html\n",
      "['\\n \\n Cooking spray\\n \\n', '\\n3 cups\\n sifted cake flour\\n \\n', '\\n2 tablespoons\\n unsweetened cocoa\\n \\n', '\\n1 teaspoon\\n baking soda\\n \\n', '\\n1 teaspoon\\n baking powder\\n \\n', '\\n1/2 teaspoon\\n salt\\n \\n', '\\n1 2/3 cups\\n granulated sugar\\n \\n', '\\n1/2 cup\\n butter, softened\\n \\n', '\\n4 \\n large egg whites\\n \\n', '\\n2 cups\\n fat-free buttermilk\\n \\n', '\\n1 \\n (1-ounce) bottle red food coloring\\n \\n', '\\n1 teaspoon\\n vanilla extract\\n \\n', '\\n7 ounces\\n 1/3-less-fat cream cheese\\n \\n', '\\n1 teaspoon\\n vanilla extract\\n \\n', '\\n2 3/4 cups\\n powdered sugar\\n \\n', '\\n1/2 cup\\n seedless raspberry jam\\n \\n']\n",
      "------------------------------------\n",
      "exception\n",
      "------------------------------------\n",
      "exception\n",
      "------------------------------------\n",
      "exception\n",
      "------------------------------------\n",
      "This recipe is from Allrecipes\n",
      "is recipe:  True\n",
      "enter\n",
      "Total number of ingredients: 0\n",
      "Title:  \n",
      "\tNut Horns Recipe - Allrecipes.com\n",
      "\n",
      "filename:  ff70a9eb4e8de4c2f72f281993ab7a55.html\n",
      "[]\n",
      "------------------------------------\n",
      "This recipe is from Allrecipes\n",
      "is recipe:  True\n",
      "enter\n",
      "Total number of ingredients: 0\n",
      "Title:  \n",
      "\tCuban Recipes - Allrecipes.com\n",
      "\n",
      "filename:  ff70d7922e18782f3bae04ac405508f4.html\n",
      "[]\n",
      "------------------------------------\n",
      "exception\n",
      "------------------------------------\n",
      "exception\n",
      "------------------------------------\n",
      "exception\n",
      "------------------------------------\n",
      "This recipe is from Allrecipes\n",
      "is recipe:  True\n",
      "enter\n",
      "Total number of ingredients: 0\n",
      "Title:  \n",
      "\tMeringue Cookie Recipes - Allrecipes.com\n",
      "\n",
      "filename:  ff7252cd2ba55c9a28534d749c53c089.html\n",
      "[]\n",
      "------------------------------------\n",
      "This recipe is from Allrecipes\n",
      "is recipe:  True\n",
      "enter\n",
      "Total number of ingredients: 0\n",
      "Title:  \n",
      "\tChocolate Cheesecake Recipe - Allrecipes.com\n",
      "\n",
      "filename:  ff727d984c9c0048def173c4c97ab52e.html\n",
      "[]\n",
      "------------------------------------\n",
      "exception\n"
     ]
    }
   ],
   "source": [
    "#Nadine's loop for all recipes in folder\n",
    "#PLAYGROUND WITH THE SAME LOOP, BUT PRINTS AND STUFF FOR DEBUGGING AND EXPERIMENTING\n",
    "# data has following row structure\n",
    "# RecipeName as Identifier - bool contains_meat - list of co2 ingredients - carbonFootprint - ingredients\n",
    "data=[]\n",
    "for filename in os.listdir(SAMPLE_DATA_FOLDER):\n",
    "    with open(SAMPLE_DATA_FOLDER+filename) as f:\n",
    "        isTrue=False\n",
    "        count_exceptions=0\n",
    "        print('------------------------------------')\n",
    "        \n",
    "        # introduce try/catch such that it does no longer stop, when not recoginzeing letter\n",
    "        try:\n",
    "            page = f.read()\n",
    "            soup = BeautifulSoup(page, 'html.parser')\n",
    "            \n",
    "            ingredient_wrappers, is_recipe, ingredients, ingredient_amounts = analyse_recipe(soup,page)\n",
    "            print('is recipe: ',is_recipe)\n",
    "            \n",
    "            #different tag for ingredient and different separators in ingredient list between the webpages\n",
    "            if is_recipe:\n",
    "                print('enter')\n",
    "                #print(ingredient_wrappers)\n",
    "\n",
    "                #meatlist, contains_meat = analyse_meat(ingredient_wrappers,s)\n",
    "                #ingredients = get_ingredients(ingredient_wrappers)\n",
    "                ingredients=extract_ingredients(ingredient_wrappers)\n",
    "\n",
    "                print('Title: ', soup.title.string)\n",
    "                print('filename: ', filename)\n",
    "                print(ingredients)\n",
    "                #data.append\n",
    "                #add row to dataset only if recipe contains meat\n",
    "                #data.append([soup.title.string, contains_meat, meatlist, carbon_fp(meatlist), ingredients])\n",
    "            else:\n",
    "                print(soup.title.string)\n",
    "        except:\n",
    "            print('exception')\n",
    "            count_exceptions=count_exceptions+1\n",
    "#print(data)\n",
    "# save data as csv "
   ]
  },
  {
   "cell_type": "code",
   "execution_count": null,
   "metadata": {},
   "outputs": [],
   "source": [
    "# calculate carbon footprint\n",
    "#input ingredients\n",
    "#identify ingredient ammount\n",
    "#output carbon footprint\n",
    "def carbon_fp (l):\n",
    "    \"\"\"\n",
    "    takes a list of ingredients contributing to co2 and returns carbon footprint\n",
    "    \"\"\"\n",
    "    c=len(l)\n",
    "    return c\n",
    "\n"
   ]
  }
 ],
 "metadata": {
  "kernelspec": {
   "display_name": "Python [conda env:ada]",
   "language": "python",
   "name": "conda-env-ada-py"
  },
  "language_info": {
   "codemirror_mode": {
    "name": "ipython",
    "version": 3
   },
   "file_extension": ".py",
   "mimetype": "text/x-python",
   "name": "python",
   "nbconvert_exporter": "python",
   "pygments_lexer": "ipython3",
   "version": "3.6.6"
  }
 },
 "nbformat": 4,
 "nbformat_minor": 2
}
