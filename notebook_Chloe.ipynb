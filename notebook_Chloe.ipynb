{
 "cells": [
  {
   "cell_type": "markdown",
   "metadata": {},
   "source": [
    "# Who are the carnivores?\n",
    "\n",
    "### Abstract\n",
    "\n",
    "With increasingly dire climate change forecasts, concerned individuals are asking how they can minimize their carbon footprint. Recent research suggests that reducing one's consumption of meat, in particular beef, is one of the highest impact actions an individual can take. To examine this topic, we will explore the trends in meat consumption in the U.S. by analyzing the prevalence of meat in recipes frequented online. Specifically, we plan to extract the ingredients, time and location of clicks from a recipe database. Using this information, we will explore the link between meat consumption and various key factors such as time of year, rural and urban locations, average regional income or historic events (i.e. the Paris Climate Agreement, mad cow disease outbreak). Finally, we hope to directly relate this data to the issue of climate change by estimating a rating reflecting the carbon footprint of meat in recipes and the environmental impact of consumers' diets.\n"
   ]
  },
  {
   "cell_type": "markdown",
   "metadata": {},
   "source": [
    "### Imports and libraries"
   ]
  },
  {
   "cell_type": "code",
   "execution_count": 20,
   "metadata": {},
   "outputs": [],
   "source": [
    "# Import libraries\n",
    "import requests\n",
    "import pandas as pd\n",
    "import numpy as np\n",
    "\n",
    "from bs4 import BeautifulSoup\n"
   ]
  },
  {
   "cell_type": "code",
   "execution_count": 21,
   "metadata": {},
   "outputs": [],
   "source": [
    "DATA_FOLDER = 'data'\n",
    "SAMPLE_DATA_FOLDER = DATA_FOLDER + '/htmlSample'"
   ]
  },
  {
   "cell_type": "markdown",
   "metadata": {},
   "source": [
    "## First step: data loading and cleaning\n",
    "\n",
    "Goal: end up with a dataframe containing ingredients, clicks, and other features for each recipe\n",
    "\n",
    "Start with one HTML file then scale up to 10-100 then the whole folder"
   ]
  },
  {
   "cell_type": "markdown",
   "metadata": {},
   "source": [
    "Below, we use beautifulSoup to extract features from the HTML file. I took a sample page from the web as I couldn't easily access local files."
   ]
  },
  {
   "cell_type": "code",
   "execution_count": 44,
   "metadata": {},
   "outputs": [],
   "source": [
    "# Function working on AllRecipes.com\n",
    "# I guess it'll be different for other websites...\n",
    "\n",
    "def extract_ingredients(URL):\n",
    "    \"\"\"\n",
    "    Function extracting list of ingredients from given URL, currently working on AllRecipes.com recipes\n",
    "    Returns a list of all ingredients and quantities.\n",
    "    \"\"\"\n",
    "    \n",
    "    #get the recipe web page\n",
    "    r = requests.get(URL)\n",
    "    page_body = r.text\n",
    "    \n",
    "    #extract a nice soup from our recipe page\n",
    "    soup = BeautifulSoup(page_body, 'html.parser')\n",
    "    print('Recipe analysed: '+soup.title.string)\n",
    "    ingredient_wrappers = soup.find_all(itemprop=\"recipeIngredient\")\n",
    "    print('Total number of ingredients: {0}'.format(len(ingredient_wrappers)))\n",
    "    \n",
    "    # And here is a list of the ingredients!\n",
    "    ingredients = []\n",
    "\n",
    "    for ingredient in ingredient_wrappers:\n",
    "        ingredients.append(ingredient.getText())\n",
    "        \n",
    "    return ingredients\n",
    "    "
   ]
  },
  {
   "cell_type": "code",
   "execution_count": 45,
   "metadata": {},
   "outputs": [
    {
     "name": "stdout",
     "output_type": "stream",
     "text": [
      "Recipe analysed: Super Nachos Recipe - Allrecipes.com\n",
      "Total number of ingredients: 11\n"
     ]
    },
    {
     "data": {
      "text/plain": [
       "['1 pound ground beef',\n",
       " '1 (1.25 ounce) package taco seasoning mix',\n",
       " '3/4 cup water',\n",
       " '1 (18 ounce) package restaurant-style tortilla chips',\n",
       " '1 cup shredded sharp Cheddar cheese, or more to taste',\n",
       " '1 (15.5 ounce) can refried beans',\n",
       " '1 cup salsa',\n",
       " '1 cup sour cream, or more to taste',\n",
       " '1 (10 ounce) can pitted black olives, drained and chopped',\n",
       " '4 green onions, diced',\n",
       " '1 (4 ounce) can sliced jalapeno peppers, drained']"
      ]
     },
     "execution_count": 45,
     "metadata": {},
     "output_type": "execute_result"
    }
   ],
   "source": [
    "# Let's try it on a nachos recipe!\n",
    "URL_nachos = 'https://www.allrecipes.com/recipe/51147/super-nachos/?internalSource=hub%20recipe&referringContentType=Search'\n",
    "\n",
    "ingredients_nachos = extract_ingredients(URL_nachos)\n",
    "ingredients_nachos"
   ]
  },
  {
   "cell_type": "code",
   "execution_count": 33,
   "metadata": {},
   "outputs": [
    {
     "data": {
      "text/plain": [
       "list"
      ]
     },
     "execution_count": 33,
     "metadata": {},
     "output_type": "execute_result"
    }
   ],
   "source": [
    "type(ingredients_nachos)"
   ]
  },
  {
   "cell_type": "markdown",
   "metadata": {},
   "source": [
    "## Second step: carbon footprint\n",
    "\n",
    "We try to extract protein-rich ingredients from animal source to calculate the main carbon footprint of the recipe. Source of data: [GreenEatz](https://www.greeneatz.com/foods-carbon-footprint.html)"
   ]
  },
  {
   "cell_type": "code",
   "execution_count": 59,
   "metadata": {},
   "outputs": [
    {
     "data": {
      "text/html": [
       "<div>\n",
       "<style scoped>\n",
       "    .dataframe tbody tr th:only-of-type {\n",
       "        vertical-align: middle;\n",
       "    }\n",
       "\n",
       "    .dataframe tbody tr th {\n",
       "        vertical-align: top;\n",
       "    }\n",
       "\n",
       "    .dataframe thead th {\n",
       "        text-align: right;\n",
       "    }\n",
       "</style>\n",
       "<table border=\"1\" class=\"dataframe\">\n",
       "  <thead>\n",
       "    <tr style=\"text-align: right;\">\n",
       "      <th></th>\n",
       "      <th>Food</th>\n",
       "      <th>CO2 Kilos Equivalent</th>\n",
       "      <th>Car Miles Equivalent</th>\n",
       "    </tr>\n",
       "    <tr>\n",
       "      <th>Rank</th>\n",
       "      <th></th>\n",
       "      <th></th>\n",
       "      <th></th>\n",
       "    </tr>\n",
       "  </thead>\n",
       "  <tbody>\n",
       "    <tr>\n",
       "      <th>1</th>\n",
       "      <td>Lamb</td>\n",
       "      <td>39.2</td>\n",
       "      <td>91</td>\n",
       "    </tr>\n",
       "    <tr>\n",
       "      <th>2</th>\n",
       "      <td>Beef</td>\n",
       "      <td>27.0</td>\n",
       "      <td>63</td>\n",
       "    </tr>\n",
       "    <tr>\n",
       "      <th>4</th>\n",
       "      <td>Pork</td>\n",
       "      <td>12.1</td>\n",
       "      <td>28</td>\n",
       "    </tr>\n",
       "    <tr>\n",
       "      <th>5</th>\n",
       "      <td>Turkey</td>\n",
       "      <td>10.9</td>\n",
       "      <td>25</td>\n",
       "    </tr>\n",
       "    <tr>\n",
       "      <th>6</th>\n",
       "      <td>Chicken</td>\n",
       "      <td>6.9</td>\n",
       "      <td>16</td>\n",
       "    </tr>\n",
       "    <tr>\n",
       "      <th>7</th>\n",
       "      <td>Tuna</td>\n",
       "      <td>6.1</td>\n",
       "      <td>14</td>\n",
       "    </tr>\n",
       "  </tbody>\n",
       "</table>\n",
       "</div>"
      ],
      "text/plain": [
       "         Food  CO2 Kilos Equivalent  Car Miles Equivalent\n",
       "Rank                                                     \n",
       "1        Lamb                  39.2                    91\n",
       "2        Beef                  27.0                    63\n",
       "4        Pork                  12.1                    28\n",
       "5      Turkey                  10.9                    25\n",
       "6     Chicken                   6.9                    16\n",
       "7        Tuna                   6.1                    14"
      ]
     },
     "execution_count": 59,
     "metadata": {},
     "output_type": "execute_result"
    }
   ],
   "source": [
    "#Load data from xls file\n",
    "carbon_footprint = pd.read_excel('data/carbon_footprint_protein.xls', sheet_name='meat', index_col=0)\n",
    "carbon_footprint "
   ]
  },
  {
   "cell_type": "code",
   "execution_count": 60,
   "metadata": {},
   "outputs": [
    {
     "data": {
      "text/plain": [
       "['Lamb', 'Beef', 'Pork', 'Turkey', 'Chicken', 'Tuna']"
      ]
     },
     "execution_count": 60,
     "metadata": {},
     "output_type": "execute_result"
    }
   ],
   "source": [
    "#List of meat ingredients\n",
    "protein = carbon_footprint['Food'].tolist()\n",
    "protein"
   ]
  },
  {
   "cell_type": "code",
   "execution_count": 57,
   "metadata": {
    "scrolled": false
   },
   "outputs": [
    {
     "data": {
      "text/html": [
       "<div>\n",
       "<style scoped>\n",
       "    .dataframe tbody tr th:only-of-type {\n",
       "        vertical-align: middle;\n",
       "    }\n",
       "\n",
       "    .dataframe tbody tr th {\n",
       "        vertical-align: top;\n",
       "    }\n",
       "\n",
       "    .dataframe thead th {\n",
       "        text-align: right;\n",
       "    }\n",
       "</style>\n",
       "<table border=\"1\" class=\"dataframe\">\n",
       "  <thead>\n",
       "    <tr style=\"text-align: right;\">\n",
       "      <th></th>\n",
       "      <th>ingredients</th>\n",
       "    </tr>\n",
       "  </thead>\n",
       "  <tbody>\n",
       "    <tr>\n",
       "      <th>0</th>\n",
       "      <td>1 pound ground beef</td>\n",
       "    </tr>\n",
       "    <tr>\n",
       "      <th>1</th>\n",
       "      <td>1 (1.25 ounce) package taco seasoning mix</td>\n",
       "    </tr>\n",
       "    <tr>\n",
       "      <th>2</th>\n",
       "      <td>3/4 cup water</td>\n",
       "    </tr>\n",
       "    <tr>\n",
       "      <th>3</th>\n",
       "      <td>1 (18 ounce) package restaurant-style tortilla...</td>\n",
       "    </tr>\n",
       "    <tr>\n",
       "      <th>4</th>\n",
       "      <td>1 cup shredded sharp Cheddar cheese, or more t...</td>\n",
       "    </tr>\n",
       "    <tr>\n",
       "      <th>5</th>\n",
       "      <td>1 (15.5 ounce) can refried beans</td>\n",
       "    </tr>\n",
       "    <tr>\n",
       "      <th>6</th>\n",
       "      <td>1 cup salsa</td>\n",
       "    </tr>\n",
       "    <tr>\n",
       "      <th>7</th>\n",
       "      <td>1 cup sour cream, or more to taste</td>\n",
       "    </tr>\n",
       "    <tr>\n",
       "      <th>8</th>\n",
       "      <td>1 (10 ounce) can pitted black olives, drained ...</td>\n",
       "    </tr>\n",
       "    <tr>\n",
       "      <th>9</th>\n",
       "      <td>4 green onions, diced</td>\n",
       "    </tr>\n",
       "    <tr>\n",
       "      <th>10</th>\n",
       "      <td>1 (4 ounce) can sliced jalapeno peppers, drained</td>\n",
       "    </tr>\n",
       "  </tbody>\n",
       "</table>\n",
       "</div>"
      ],
      "text/plain": [
       "                                          ingredients\n",
       "0                                 1 pound ground beef\n",
       "1           1 (1.25 ounce) package taco seasoning mix\n",
       "2                                       3/4 cup water\n",
       "3   1 (18 ounce) package restaurant-style tortilla...\n",
       "4   1 cup shredded sharp Cheddar cheese, or more t...\n",
       "5                    1 (15.5 ounce) can refried beans\n",
       "6                                         1 cup salsa\n",
       "7                  1 cup sour cream, or more to taste\n",
       "8   1 (10 ounce) can pitted black olives, drained ...\n",
       "9                               4 green onions, diced\n",
       "10   1 (4 ounce) can sliced jalapeno peppers, drained"
      ]
     },
     "execution_count": 57,
     "metadata": {},
     "output_type": "execute_result"
    }
   ],
   "source": [
    "ingredients = ingredients_nachos\n",
    "df =pd.DataFrame(np.array(ingredients), columns=['ingredients'])\n",
    "df"
   ]
  },
  {
   "cell_type": "code",
   "execution_count": null,
   "metadata": {},
   "outputs": [],
   "source": [
    "#next step: extract animal protein ingredients by comparing one df to the other"
   ]
  },
  {
   "cell_type": "markdown",
   "metadata": {},
   "source": [
    "## Third step: Tags and Ratings"
   ]
  },
  {
   "cell_type": "code",
   "execution_count": 124,
   "metadata": {},
   "outputs": [],
   "source": [
    "def extract_tags(URL):\n",
    "    \"\"\"\n",
    "    Function extracting list of ingredients from given URL, currently working on AllRecipes.com recipes\n",
    "    Returns a list of all ingredients and quantities.\n",
    "    \"\"\"\n",
    "    \n",
    "    #get the recipe web page\n",
    "    r = requests.get(URL)\n",
    "    page_body = r.text\n",
    "    \n",
    "    #extract a nice soup from our recipe page\n",
    "    soup = BeautifulSoup(page_body, 'html.parser')\n",
    "    print('Recipe analysed: '+soup.title.string)\n",
    "    \n",
    "    \n",
    "    ings = []\n",
    "    ing_amnts = []\n",
    "    tags = []\n",
    "    \n",
    "    #OK\n",
    "    if 'Allrecipes' in soup.title.string: \n",
    "        print('This recipe is from Allrecipes')\n",
    "        is_recipe = True\n",
    "        tag_wrappers = soup.find_all(itemprop=\"recipeCategory\")\n",
    "        print('Total number of tags: {0}'.format(len(tag_wrappers)))\n",
    "        for tag in tag_wrappers:\n",
    "            tags.append(tag['content'])\n",
    "        if not tags:\n",
    "            print('alternative format used')\n",
    "        else:\n",
    "            print('alternative format 2 needed')\n",
    "    \n",
    "    #OK\n",
    "    elif 'Epicurious' in soup.title.string:\n",
    "        print('This recipe is from Epicurious')\n",
    "        tag_wrappers = soup.find_all(itemprop=\"recipeCuisine\")\n",
    "        print('Total number of tags: {0}'.format(len(tag_wrappers)))\n",
    "        for tag in tag_wrappers:\n",
    "            tags.append(tag.getText())\n",
    "            \n",
    "        #These Categories are more main ingredients and might not be considered as tags\n",
    "        tag_wrappers = soup.find_all(itemprop=\"recipeCategory\")\n",
    "        for tag in tag_wrappers:\n",
    "            tags.append(tag.getText())\n",
    "        \n",
    "        if not tags:\n",
    "            print('no tags found :( ')            \n",
    "    \n",
    "    #OK\n",
    "    elif 'Food Network' in soup.title.string:\n",
    "        print('This recipe is from FoodNetwork')\n",
    "        tag_wrappers = soup.find_all(class_=\"btn grey-tags\")\n",
    "        print('Total number of tags: {0}'.format(len(tag_wrappers)))\n",
    "        \n",
    "        for tag in tag_wrappers:\n",
    "            tags.append(tag.getText())\n",
    "\n",
    "        if not tags:\n",
    "            print('no tags found :( ')  \n",
    "\n",
    "    #not tried yet, unavailable web pages    \n",
    "    elif 'Food.com' in soup.title.string:\n",
    "        print('This recipe is from Food.com')\n",
    "    \n",
    "    #no tags found in source\n",
    "    elif 'BettyCrocker' in soup.title.string:\n",
    "        print('This recipe is from Betty Crocker')\n",
    "        print('no tags found :( ') \n",
    "    \n",
    "    #weird tag structure, not done yet\n",
    "    elif 'MyRecipes' in soup.title.string:\n",
    "        print('This recipe is from MyRecipes')\n",
    "        \n",
    "        tag_wrappers = soup.find_all(id=\"karma-loader\")\n",
    "        print('Total number of tags: {0}'.format(len(tag_wrappers)))\n",
    "        \n",
    "        for tag in tag_wrappers:\n",
    "            tags.append(tag.getText())\n",
    "\n",
    "        if not tags:\n",
    "            print('no tags found :( ')\n",
    "    \n",
    "    return tags"
   ]
  },
  {
   "cell_type": "code",
   "execution_count": 126,
   "metadata": {},
   "outputs": [
    {
     "name": "stdout",
     "output_type": "stream",
     "text": [
      "Recipe analysed: Vegan Waffles Recipe - Allrecipes.com\n",
      "This recipe is from Allrecipes\n",
      "Total number of tags: 2\n",
      "alternative format 2 needed\n"
     ]
    },
    {
     "data": {
      "text/plain": [
       "['Breakfast and Brunch', 'Waffles']"
      ]
     },
     "execution_count": 126,
     "metadata": {},
     "output_type": "execute_result"
    }
   ],
   "source": [
    "# Let's try it on a recipe!\n",
    "URL = 'https://www.allrecipes.com/recipe/234502/vegan-waffles/'\n",
    "\n",
    "tags = extract_tags(URL)\n",
    "tags"
   ]
  }
 ],
 "metadata": {
  "kernelspec": {
   "display_name": "Python [conda env:ada]",
   "language": "python",
   "name": "conda-env-ada-py"
  },
  "language_info": {
   "codemirror_mode": {
    "name": "ipython",
    "version": 3
   },
   "file_extension": ".py",
   "mimetype": "text/x-python",
   "name": "python",
   "nbconvert_exporter": "python",
   "pygments_lexer": "ipython3",
   "version": "3.6.7"
  }
 },
 "nbformat": 4,
 "nbformat_minor": 2
}
