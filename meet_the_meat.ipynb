{
 "cells": [
  {
   "cell_type": "markdown",
   "metadata": {},
   "source": [
    "# Meet the meat"
   ]
  },
  {
   "cell_type": "markdown",
   "metadata": {},
   "source": [
    "## Abstract\n",
    "\n",
    "With increasingly dire climate change forecasts, concerned individuals are asking how they can minimize their carbon footprint. Recent research suggests that reducing one's consumption of meat, in particular beef, is one of the highest impact actions an individual can take. To examine this topic, we will explore the popularity and prevalence of meat in recipes. Specifically, we plan to extract the ingredients from a recipe database and calculate the carbon footprint of recipes\n",
    "\n",
    "Finally, we hope to directly relate this data to the issue of climate change by estimating a rating reflecting the carbon footprint of meat in recipes and the environmental impact of consumers' diets."
   ]
  },
  {
   "cell_type": "markdown",
   "metadata": {},
   "source": [
    "### Imports and libraries"
   ]
  },
  {
   "cell_type": "code",
   "execution_count": 1,
   "metadata": {},
   "outputs": [],
   "source": [
    "# Import libraries\n",
    "import pandas as pd\n",
    "import numpy as np\n",
    "\n",
    "from bs4 import BeautifulSoup\n",
    "import os, os.path as osp"
   ]
  },
  {
   "cell_type": "code",
   "execution_count": 20,
   "metadata": {},
   "outputs": [],
   "source": [
    "DATA_FOLDER='data'\n",
    "#SAMPLE_DATA_FOLDER = DATA_FOLDER + '/htmlSample/'\n",
    "SAMPLE_DATA_FOLDER = DATA_FOLDER + '/sample_400/'"
   ]
  },
  {
   "cell_type": "markdown",
   "metadata": {},
   "source": [
    "## Data cleaning\n",
    "\n",
    "Our recipe dataset contains recipes from the [From Cookies to Cooks](http://infolab.stanford.edu/~west1/from-cookies-to-cooks/), combining recipes from 14 high-trafficwebsites. We start by extracting all the information we want from the HTML files, that is: title, ingredients and meat or animal protein ingredients, tags, ratings in order to explore the recipes in more detail.\n"
   ]
  },
  {
   "cell_type": "markdown",
   "metadata": {},
   "source": [
    "#### Data cleaning functions"
   ]
  },
  {
   "cell_type": "code",
   "execution_count": 446,
   "metadata": {},
   "outputs": [
    {
     "data": {
      "text/plain": [
       "([], [], [], False)"
      ]
     },
     "execution_count": 446,
     "metadata": {},
     "output_type": "execute_result"
    }
   ],
   "source": [
    "def extract_amount(ings, ing_amnt):\n",
    "    \"\"\"\n",
    "    takes as argument the ingredients and ingredient amounts (if available)\n",
    "    returns a list of all meat ingredients in the recipe, the amount of the ingredient in kg and a boolean contains_meat\n",
    "    \"\"\"\n",
    "\n",
    "    meat_ingredients_full = []\n",
    "    meat_ingredients_base = []\n",
    "    ing_quant=[]\n",
    "    \n",
    "    contains_meat=False\n",
    "    #Find meat ingredients\n",
    "    for i in ings:\n",
    "        for meat_product in meat_products:\n",
    "            if i != None:\n",
    "                if meat_product in i:\n",
    "                    contains_meat=True\n",
    "                    meat_ingredients_full.append(i)\n",
    "                    meat_ingredients_base.append(meat_product)\n",
    "\n",
    "    #print(meat_ingredients_base)\n",
    "    #print(meat_ingredients_full)\n",
    "    #extract amount if amount is not directly available\n",
    "    if not ing_amnt: #if amount is empty\n",
    "        for meat_i in meat_ingredients_full:\n",
    "            meat_i_quant_kg=0\n",
    "            #print('------------')\n",
    "            #print('Ingredient: ', meat_i)\n",
    "            \n",
    "            #print('Extracting amount:')\n",
    "            #amount=re.match(r'\\d', meat_i).group()\n",
    "            amount=re.search(r'\\d', meat_i).group()\n",
    "\n",
    "            #print('quantity=',amount)\n",
    "            \n",
    "            #print('Extracting units:')\n",
    "            for u in units: \n",
    "                if u in meat_i:\n",
    "            #        print('Quantity in '+ u + ' converted to ')\n",
    "                    meat_i_quant_kg = convert_to_kg(float(amount),u)\n",
    "            ing_quant.append(meat_i_quant_kg)\n",
    "            #if meat_i_quant_kg==0:\n",
    "            #    print('Units not recognized for: '+meat_i)\n",
    "                \n",
    "                \n",
    "    else:# if amount is directly available through soup\n",
    "        #print('Amount available')\n",
    "        for meat_i in meat_ingredients_full:\n",
    "            meat_i_quant_kg=0\n",
    "            #print('------------')\n",
    "            #print('Ingredient: ', meat_i)\n",
    "            #get index of ingredient\n",
    "            amount=ing_amnt[ings.index(meat_i)]\n",
    "            #print('Extracting amount:')\n",
    "            #amount=re.match(r'\\d', meat_i).group()\n",
    "            #print(amount)\n",
    "            amount_val=re.search(r'\\d', amount).group()\n",
    "            #print('quantity=',amount_val)\n",
    "            #print('Extracting units:')\n",
    "            for u in units: \n",
    "                if u in amount:\n",
    "             #       print('Quantity in '+ u + ' converted to ')\n",
    "                    meat_i_quant_kg = convert_to_kg(float(amount_val),u)\n",
    "            ing_quant.append(meat_i_quant_kg)\n",
    "            #if meat_i_quant_kg==0:\n",
    "            #    print('Units not recognized for: '+amount+meat_i)\n",
    "    return meat_ingredients_full, meat_ingredients_base, ing_quant,contains_meat\n",
    "\n",
    "\n",
    "    \n",
    "extract_amount(ingredients,ingredient_amounts)\n"
   ]
  },
  {
   "cell_type": "code",
   "execution_count": 447,
   "metadata": {},
   "outputs": [
    {
     "data": {
      "text/plain": [
       "0.02834949254408346"
      ]
     },
     "execution_count": 447,
     "metadata": {},
     "output_type": "execute_result"
    }
   ],
   "source": [
    "measurements = ['pound','pounds','grams','gram','oz','kg','kilogram']\n",
    "\n",
    "def convert_to_kg(quant, unit):\n",
    "    if (unit=='kilogram') or (unit=='kg'):\n",
    "        amnt_kg=quant\n",
    "        #print(quant,'kg')\n",
    "    elif (unit=='pound') or (unit=='lb') or (unit=='lbs') or (unit=='pounds'):\n",
    "        amnt_kg=quant/2.205\n",
    "        #print(amnt_kg,'kg')\n",
    "    elif(unit=='g') or (unit=='gram') or (unit =='grams'):\n",
    "        amnt_kg=quant/1000\n",
    "        #print(amnt_kg,'kg')     \n",
    "    elif(unit=='oz') or (unit=='ounce'):\n",
    "        amnt_kg=quant/35.274\n",
    "        #print(amnt_kg, 'kg')\n",
    "    return(amnt_kg)\n",
    "    \n",
    "convert_to_kg(1,'oz')"
   ]
  },
  {
   "cell_type": "code",
   "execution_count": 1,
   "metadata": {},
   "outputs": [],
   "source": [
    "def analyse_recipe(soup, page):\n",
    "    \"\"\"\n",
    "    takes soup, page as argument\n",
    "    returns ingredientwrapper, s=spacer\n",
    "    \"\"\"\n",
    "    ings = []\n",
    "    ing_amnts = []\n",
    "    \n",
    "    if 'Allrecipes' in soup.title.string:\n",
    "        print('This recipe is from Allrecipes')\n",
    "        is_recipe = True\n",
    "        ing_wrap=soup.find_all(itemprop=\"recipeIngredient\")\n",
    "        if not ing_wrap:\n",
    "            print('alternative format used')\n",
    "            ing_wrap=soup.find_all('li', class_=\"plaincharacterwrap ingredient\")\n",
    "            for ing in ing_wrap:\n",
    "                ings.append(ing.text)\n",
    "\n",
    "        else:\n",
    "            print('alternative format 2 needed')\n",
    "            #for ing in ing_wrap:\n",
    "            #    ing_amnts.append(ing.find(itemprop='amount').text)\n",
    "            #    ings.append(ing.find(itemprop='name').text)\n",
    "              \n",
    "    elif 'Epicurious' in soup.title.string:\n",
    "        print('This recipe is from Epicurious')\n",
    "        ing_wrap=soup.find('div', id=\"ingredients\")\n",
    "        for ing in ing_wrap:\n",
    "            ings.append(ing.string)     \n",
    "            \n",
    "    elif 'Food Network' in soup.title.string:\n",
    "        print('This recipe is from FoodNetwork')\n",
    "        ing_wrap=soup.find_all('li',class_='ingredient')\n",
    "        for ing in ing_wrap:\n",
    "            ings.append(ing.text)      \n",
    "        \n",
    "    elif 'Food.com' in soup.title.string:\n",
    "        ing_wrap=soup.find_all('li', class_=\"ingredient\")\n",
    "        is_recipe = True\n",
    "        for ing in ing_wrap:\n",
    "            ing_amnts.append((ing.find('span',class_='value').text+ ' '+ing.find('span',class_='type').text))\n",
    "            ings.append(ing.find('span', class_='name').text)\n",
    "    \n",
    "    elif 'Betty Crocker' in soup.title.string:\n",
    "        is_recipe = True\n",
    "        ing_wrap=soup.find_all('dl', class_='ingredient')\n",
    "        for ing in ing_wrap:\n",
    "            ings.append(ing.getText())\n",
    "            \n",
    "    elif 'MyRecipes' in soup.title.string:\n",
    "        print('This recipe is from MyRecipes')\n",
    "        ing_wrap=soup.find_all(itemprop=\"ingredient\")\n",
    "        is_recipe = True\n",
    "        for ing in ing_wrap:\n",
    "            ings.append(ing.getText())\n",
    "    # this really has to be analyzed more closely!!\n",
    "    else:\n",
    "        is_recipe = False\n",
    "        ing_wrap=None\n",
    "\n",
    "    return ing_wrap, is_recipe, ings, ing_amnts\n"
   ]
  },
  {
   "cell_type": "code",
   "execution_count": 54,
   "metadata": {},
   "outputs": [],
   "source": [
    "#cleaning function to remove unnecessary cells in ingredient list\n",
    "def remove_spaces(l):\n",
    "    \"\"\"\n",
    "    cleaning function to remove unnecessary cells in ingredient list\n",
    "    \"\"\"\n",
    "    while '' in l:\n",
    "                l.remove('')\n",
    "    while ' ' in l:\n",
    "                l.remove(' ')\n",
    "    return l \n",
    "\n",
    "#idea: calculate carbon foodprint in this function by summing contributions in meat_ingredients\n",
    "#return a list of all meat ingredients and their amount and a is_true=True if the recipe contains meat\n",
    "def analyse_meat(ingredient_list, s):\n",
    "    \"\"\"\n",
    "    takes as argument the ingredient_list and the spacer\n",
    "    returns a list of all meat ingredients in the recipe, and a boolean contains_meat\n",
    "    \"\"\"\n",
    "    meat_ingredients = []\n",
    "    contains_meat=False\n",
    "    for ingredient in ingredient_list:\n",
    "        for meat_product in meat_products:\n",
    "            if meat_product in ingredient.getText():\n",
    "                contains_meat=True\n",
    "                l=ingredient.getText().split(s)\n",
    "                l=remove_spaces(l)\n",
    "                l.append(meat_product)\n",
    "                meat_ingredients.append(l)\n",
    "    return meat_ingredients, contains_meat\n",
    "\n",
    "# calculate carbon footprint\n",
    "def carbon_fp (l):\n",
    "    \"\"\"\n",
    "    takes a list of ingredients contributing to co2 and returns carbon footprint\n",
    "    \"\"\"\n",
    "    c=len(l)\n",
    "    return c\n",
    "\n",
    "def analyze_recipe(soup, page):\n",
    "    \"\"\"\n",
    "    takes soup, page as argument\n",
    "    returns ingredientwrapper, s=spacer\n",
    "    \"\"\"\n",
    "    if 'Allrecipes' in soup.title.string:\n",
    "        ingredient_wrappers=soup.find_all(itemprop=\"recipeIngredient\")\n",
    "        s=','\n",
    "        is_recipe = True\n",
    "    elif 'MyRecipes' in soup.title.string:\n",
    "        ingredient_wrappers=soup.find_all(itemprop=\"ingredient\")\n",
    "        s='\\n'\n",
    "        is_recipe = True\n",
    "    # this really has to be analyzed more closely!!\n",
    "    else:\n",
    "        is_recipe = False\n",
    "        \n",
    "    #return tags\n",
    "    return ingredient_wrappers, s, is_recipe\n",
    "\n",
    "\n",
    "def get_ingredients(ingredient_wrappers):\n",
    "    \"\"\"\n",
    "    returns a list of all ingredients in the recipe\n",
    "    \"\"\"\n",
    "    ingredients = []\n",
    "    for ingredient in ingredient_wrappers:\n",
    "        ingredients.append(ingredient.getText())    \n",
    "    return ingredients\n",
    "#not sure whether we can give soup and page as arguments..\n"
   ]
  },
  {
   "cell_type": "markdown",
   "metadata": {},
   "source": [
    "### Data extraction and cleaning loop\n",
    "Below we extract the data from the recipes of our html dataset and save it in dataframes. Our goal here is to extract the ingredients and assign a carbon-impact rating to the highest impact ingredients (meat or animal protein) in the recipes.\n",
    "\n",
    "To extract protein-rich ingredients from animal source in order to calculate the main carbon footprint of the recipe, we use an extra database listing the main protein sources and carbon impact. Source of data: [GreenEatz](https://www.greeneatz.com/foods-carbon-footprint.html)"
   ]
  }
 ],
 "metadata": {
  "kernelspec": {
   "display_name": "Python [conda env:ada]",
   "language": "python",
   "name": "conda-env-ada-py"
  },
  "language_info": {
   "codemirror_mode": {
    "name": "ipython",
    "version": 3
   },
   "file_extension": ".py",
   "mimetype": "text/x-python",
   "name": "python",
   "nbconvert_exporter": "python",
   "pygments_lexer": "ipython3",
   "version": "3.6.7"
  }
 },
 "nbformat": 4,
 "nbformat_minor": 2
}
