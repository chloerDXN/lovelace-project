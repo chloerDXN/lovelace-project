{
 "cells": [
  {
   "cell_type": "code",
   "execution_count": 244,
   "metadata": {},
   "outputs": [],
   "source": [
    "# Import libraries\n",
    "import requests\n",
    "import pandas as pd\n",
    "import numpy as np\n",
    "\n",
    "from bs4 import BeautifulSoup\n",
    "import os, os.path as osp\n",
    "import re"
   ]
  },
  {
   "cell_type": "code",
   "execution_count": 450,
   "metadata": {},
   "outputs": [],
   "source": [
    "DATA_FOLDER = 'data'\n",
    "SAMPLE_DATA_FOLDER = DATA_FOLDER + '/htmlSample/'\n",
    "\n",
    "#SAMPLE_DATA_FOLDER='htmlSample/'\n",
    "SAMPLE_FILE='data/htmlSample/ff6da2b8d426c56ae77beda595bdcfea.html' #Recipe\n",
    "SAMPLE_FILE_2='data/htmlSample/ff727d984c9c0048def173c4c97ab52e.html'\n",
    "SAMPLE_FILE_3='data/htmlSample/ff6f004f00135caa7d6f91b27cbd3a4a.html'\n",
    "SAMPLE_FILE_4='data/htmlSample/ff70a9eb4e8de4c2f72f281993ab7a55.html'\n",
    "SAMPLE_FILE_5='data/htmlSample/ff7208a2993418a1b6d50c88b279f229.html'\n",
    "SAMPLE_FILE_6='data/htmlSample/ff6f69af86e33565848f2c7366a793d7.html'\n",
    "\n",
    "DATA_FOLDER_EXPANDED = DATA_FOLDER + '/sample_400/'"
   ]
  },
  {
   "cell_type": "code",
   "execution_count": 424,
   "metadata": {},
   "outputs": [],
   "source": [
    "#remove first letter to avoid capitalization issues?\n",
    "meat_products = ['meat', 'beef', 'chicken', 'fish', 'lamb','Lamb','ham', 'turkey','steak','sirloin','hamburger']\n",
    "units = ['pound','gram','oz','ounce','kg','kilogram' ]"
   ]
  },
  {
   "cell_type": "code",
   "execution_count": 430,
   "metadata": {},
   "outputs": [
    {
     "name": "stdout",
     "output_type": "stream",
     "text": [
      "['1 1/2 teaspoons', '1/2 teaspoon', '1/4 teaspoon', '1  teaspoon', '4 (4  ounce)', '2  tablespoons', '2  tablespoons']\n",
      "['\\ndried thyme\\n', '\\nsalt\\n', '\\nblack pepper\\n', '\\nolive oil\\n', '\\nboneless skinless chicken breast halves\\n', '\\n\\t\\t\\t\\t\\t\\t\\t \\n\\t\\t\\t\\t\\t\\t\\tbalsamic vinegar\\t\\t\\t\\t\\t\\t\\t\\n\\t\\t\\t\\t\\t\\t\\t\\n\\t\\t\\t\\t\\t\\t\\t', '\\nhoney\\n']\n"
     ]
    }
   ],
   "source": [
    "#code to test soup on individual html file---> then inserted into analyse_recipe function\n",
    "with open(SAMPLE_FILE_6) as f:\n",
    "    page = f.read()\n",
    "    soup = BeautifulSoup(page, 'html.parser')\n",
    "    ing_wrap_1=soup.find_all('li', class_=\"ingredient\")\n",
    "    ing_amnts=[]\n",
    "    ings=[]\n",
    "    for i in ing_wrap_1:\n",
    "                ing_amnts.append((i.find('span',class_='value').text+ ' '+i.find('span',class_='type').text))\n",
    "                ings.append(i.find('span', class_='name').text)\n",
    "                #print(i)\n",
    "                #print('-----')\n",
    "    #print(ing_wrap_1)\n",
    "    print(ing_amnts)\n",
    "    print(ings)"
   ]
  },
  {
   "cell_type": "code",
   "execution_count": 431,
   "metadata": {
    "scrolled": true
   },
   "outputs": [
    {
     "name": "stdout",
     "output_type": "stream",
     "text": [
      "['\\ndried thyme\\n', '\\nsalt\\n', '\\nblack pepper\\n', '\\nolive oil\\n', '\\nboneless skinless chicken breast halves\\n', '\\n\\t\\t\\t\\t\\t\\t\\t \\n\\t\\t\\t\\t\\t\\t\\tbalsamic vinegar\\t\\t\\t\\t\\t\\t\\t\\n\\t\\t\\t\\t\\t\\t\\t\\n\\t\\t\\t\\t\\t\\t\\t', '\\nhoney\\n']\n"
     ]
    }
   ],
   "source": [
    "#code to test analyse_recipe function on individual html files\n",
    "with open(SAMPLE_FILE_6) as f:\n",
    "    page = f.read()\n",
    "    soup = BeautifulSoup(page, 'html.parser')\n",
    "    \n",
    "    ingredient_wrapper, is_recipe, ingredients, ingredient_amounts=analyse_recipe(soup,page)\n",
    "    print(ingredients)"
   ]
  },
  {
   "cell_type": "code",
   "execution_count": null,
   "metadata": {},
   "outputs": [],
   "source": []
  },
  {
   "cell_type": "code",
   "execution_count": 446,
   "metadata": {},
   "outputs": [
    {
     "data": {
      "text/plain": [
       "([], [], [], False)"
      ]
     },
     "execution_count": 446,
     "metadata": {},
     "output_type": "execute_result"
    }
   ],
   "source": [
    "def extract_amount(ings, ing_amnt):\n",
    "    \"\"\"\n",
    "    takes as argument the ingredients and ingredient amounts (if available)\n",
    "    returns a list of all meat ingredients in the recipe, the amount of the ingredient in kg and a boolean contains_meat\n",
    "    \"\"\"\n",
    "\n",
    "    meat_ingredients_full = []\n",
    "    meat_ingredients_base = []\n",
    "    ing_quant=[]\n",
    "    \n",
    "    contains_meat=False\n",
    "    #Find meat ingredients\n",
    "    for i in ings:\n",
    "        for meat_product in meat_products:\n",
    "            if i != None:\n",
    "                if meat_product in i:\n",
    "                    contains_meat=True\n",
    "                    meat_ingredients_full.append(i)\n",
    "                    meat_ingredients_base.append(meat_product)\n",
    "\n",
    "    #print(meat_ingredients_base)\n",
    "    #print(meat_ingredients_full)\n",
    "    #extract amount if amount is not directly available\n",
    "    if not ing_amnt: #if amount is empty\n",
    "        for meat_i in meat_ingredients_full:\n",
    "            meat_i_quant_kg=0\n",
    "            #print('------------')\n",
    "            #print('Ingredient: ', meat_i)\n",
    "            \n",
    "            #print('Extracting amount:')\n",
    "            #amount=re.match(r'\\d', meat_i).group()\n",
    "            amount=re.search(r'\\d', meat_i).group()\n",
    "\n",
    "            #print('quantity=',amount)\n",
    "            \n",
    "            #print('Extracting units:')\n",
    "            for u in units: \n",
    "                if u in meat_i:\n",
    "            #        print('Quantity in '+ u + ' converted to ')\n",
    "                    meat_i_quant_kg = convert_to_kg(float(amount),u)\n",
    "            ing_quant.append(meat_i_quant_kg)\n",
    "            #if meat_i_quant_kg==0:\n",
    "            #    print('Units not recognized for: '+meat_i)\n",
    "                \n",
    "                \n",
    "    else:# if amount is directly available through soup\n",
    "        #print('Amount available')\n",
    "        for meat_i in meat_ingredients_full:\n",
    "            meat_i_quant_kg=0\n",
    "            #print('------------')\n",
    "            #print('Ingredient: ', meat_i)\n",
    "            #get index of ingredient\n",
    "            amount=ing_amnt[ings.index(meat_i)]\n",
    "            #print('Extracting amount:')\n",
    "            #amount=re.match(r'\\d', meat_i).group()\n",
    "            #print(amount)\n",
    "            amount_val=re.search(r'\\d', amount).group()\n",
    "            #print('quantity=',amount_val)\n",
    "            #print('Extracting units:')\n",
    "            for u in units: \n",
    "                if u in amount:\n",
    "             #       print('Quantity in '+ u + ' converted to ')\n",
    "                    meat_i_quant_kg = convert_to_kg(float(amount_val),u)\n",
    "            ing_quant.append(meat_i_quant_kg)\n",
    "            #if meat_i_quant_kg==0:\n",
    "            #    print('Units not recognized for: '+amount+meat_i)\n",
    "    return meat_ingredients_full, meat_ingredients_base, ing_quant,contains_meat\n",
    "\n",
    "\n",
    "    \n",
    "extract_amount(ingredients,ingredient_amounts)\n"
   ]
  },
  {
   "cell_type": "code",
   "execution_count": 447,
   "metadata": {},
   "outputs": [
    {
     "data": {
      "text/plain": [
       "0.02834949254408346"
      ]
     },
     "execution_count": 447,
     "metadata": {},
     "output_type": "execute_result"
    }
   ],
   "source": [
    "measurements = ['pound','pounds','grams','gram','oz','kg','kilogram']\n",
    "\n",
    "def convert_to_kg(quant, unit):\n",
    "    if (unit=='kilogram') or (unit=='kg'):\n",
    "        amnt_kg=quant\n",
    "        #print(quant,'kg')\n",
    "    elif (unit=='pound') or (unit=='lb') or (unit=='lbs') or (unit=='pounds'):\n",
    "        amnt_kg=quant/2.205\n",
    "        #print(amnt_kg,'kg')\n",
    "    elif(unit=='g') or (unit=='gram') or (unit =='grams'):\n",
    "        amnt_kg=quant/1000\n",
    "        #print(amnt_kg,'kg')     \n",
    "    elif(unit=='oz') or (unit=='ounce'):\n",
    "        amnt_kg=quant/35.274\n",
    "        #print(amnt_kg, 'kg')\n",
    "    return(amnt_kg)\n",
    "    \n",
    "convert_to_kg(1,'oz')"
   ]
  },
  {
   "cell_type": "code",
   "execution_count": 457,
   "metadata": {},
   "outputs": [],
   "source": [
    "def analyse_recipe(soup, page):\n",
    "    \"\"\"\n",
    "    takes soup, page as argument\n",
    "    returns ingredientwrapper, s=spacer\n",
    "    \"\"\"\n",
    "    ings = []\n",
    "    ing_amnts = []\n",
    "    if 'Allrecipes' in soup.title.string:\n",
    "        print('This recipe is from Allrecipes')\n",
    "        is_recipe = True\n",
    "        ing_wrap=soup.find_all(itemprop=\"recipeIngredient\")\n",
    "        if not ing_wrap:\n",
    "            print('alternative format used')\n",
    "            ing_wrap=soup.find_all('li', class_=\"plaincharacterwrap ingredient\")\n",
    "            for ing in ing_wrap:\n",
    "                ings.append(ing.text)\n",
    "\n",
    "        else:\n",
    "            print('alternative format 2 needed')\n",
    "            #for ing in ing_wrap:\n",
    "            #    ing_amnts.append(ing.find(itemprop='amount').text)\n",
    "            #    ings.append(ing.find(itemprop='name').text)\n",
    "              \n",
    "    elif 'Epicurious' in soup.title.string:\n",
    "        print('This recipe is from Epicurious')\n",
    "        ing_wrap=soup.find('div', id=\"ingredients\")\n",
    "        for ing in ing_wrap:\n",
    "            ings.append(ing.string)\n",
    "    elif 'Food Network' in soup.title.string:\n",
    "        print('This recipe is from FoodNetwork')\n",
    "        ing_wrap=soup.find_all('li',class_='ingredient')\n",
    "        for ing in ing_wrap:\n",
    "            ings.append(ing.text)\n",
    "        \n",
    "    elif 'Food.com' in soup.title.string:\n",
    "        ing_wrap=soup.find_all('li', class_=\"ingredient\")\n",
    "        is_recipe = True\n",
    "        for ing in ing_wrap:\n",
    "            ing_amnts.append((ing.find('span',class_='value').text+ ' '+ing.find('span',class_='type').text))\n",
    "            ings.append(ing.find('span', class_='name').text)\n",
    "    \n",
    "    elif 'Betty Crocker' in soup.title.string:\n",
    "        is_recipe = True\n",
    "        ing_wrap=soup.find_all('dl', class_='ingredient')\n",
    "        for ing in ing_wrap:\n",
    "            ings.append(ing.getText())\n",
    "            \n",
    "    elif 'MyRecipes' in soup.title.string:\n",
    "        print('This recipe is from MyRecipes')\n",
    "        ing_wrap=soup.find_all(itemprop=\"ingredient\")\n",
    "        is_recipe = True\n",
    "        for ing in ing_wrap:\n",
    "            ings.append(ing.getText())\n",
    "    # this really has to be analyzed more closely!!\n",
    "    else:\n",
    "        is_recipe = False\n",
    "        ing_wrap=None\n",
    "\n",
    "    return ing_wrap, is_recipe, ings, ing_amnts\n"
   ]
  },
  {
   "cell_type": "code",
   "execution_count": 215,
   "metadata": {},
   "outputs": [
    {
     "name": "stdout",
     "output_type": "stream",
     "text": [
      "1\n"
     ]
    }
   ],
   "source": [
    "#NEED TO MODIFY LOOP BELOW"
   ]
  },
  {
   "cell_type": "code",
   "execution_count": 459,
   "metadata": {
    "scrolled": false
   },
   "outputs": [
    {
     "name": "stdout",
     "output_type": "stream",
     "text": [
      "###############################\n",
      "Title:  \n",
      "\tChicken Breast Cutlets with Artichokes and Capers Recipe - Allrecipes.com\n",
      "\n",
      "filename:  000a3333ad24828769b6be5a5e1bdb4a.html\n",
      "This recipe is from Allrecipes\n",
      "alternative format used\n",
      "is recipe:  True\n",
      "does this recipe contain meat?  True\n",
      "ingredients =  ['\\n                    1 cup whole wheat or white flour', '\\n                    1/2 teaspoon salt', '\\n                    1/8 teaspoon white pepper, or to taste', '\\n                    1/8 teaspoon black pepper, or to taste', '\\n                    2 pounds chicken breast tenderloins or strips', '\\n                    2 tablespoons canola oil', '\\n                    2 tablespoons extra-virgin olive oil', '\\n                    2 cups chicken broth', '\\n                    2 tablespoons fresh lemon juice', '\\n                    1 (12 ounce) jar quartered marinated artichoke hearts, with liquid', '\\n                    1/4 cup capers', '\\n                    2 tablespoons butter', '\\n                    1/4 cup chopped flat-leaf parsley']\n",
      "meat ingredients= ['flour', 'chicken', 'chicken']\n",
      "ingredient_quantity (kg)=  [0, 0.9070294784580498, 0]\n",
      "###############################\n",
      "Title:  \n",
      "\tBest Ever Popcorn Balls Recipe - Allrecipes.com\n",
      "\n",
      "filename:  000b861ad15679c578d81884a87689ea.html\n",
      "This recipe is from Allrecipes\n",
      "alternative format used\n",
      "is recipe:  True\n",
      "does this recipe contain meat?  False\n",
      "ingredients =  ['\\n                    3/4 cup light corn syrup', '\\n                    1/4 cup margarine', '\\n                    2 teaspoons cold water', \"\\n                    2 5/8 cups confectioners' sugar\", '\\n                    1 cup marshmallows', '\\n                    5 quarts plain popped popcorn']\n",
      "meat ingredients= []\n",
      "ingredient_quantity (kg)=  []\n",
      "###############################\n",
      "Title:  Pumpkin Oatmeal Recipe : Aarti Sequeira : Recipes : Food Network\n",
      "filename:  000c358afda8482346a1de4e40a74d07.html\n",
      "This recipe is from FoodNetwork\n",
      "exception\n",
      "###############################\n",
      "Title:  \n",
      "\tGreen Bean Casserole  Recipe from Betty Crocker\n",
      "\n",
      "filename:  00a02293b677de8a4626205d382efe29.html\n",
      "is recipe:  True\n",
      "does this recipe contain meat?  False\n",
      "ingredients =  ['\\n\\n                                                1\\n                                            \\n\\n                                                \\n                                                can (18 oz) ProgressoÂ® Vegetable Classics creamy mushroom soup\\n                                            \\n', '\\n\\n                                                1\\n                                            \\n\\n                                                \\n                                                teaspoon soy sauce\\n                                            \\n', '\\n\\n\\n\\n                                                \\n                                                Dash ground black pepper\\n                                            \\n', '\\n\\n                                                2\\n                                            \\n\\n                                                \\n                                                tablespoons ProgressoÂ® plain bread crumbs\\n                                            \\n', '\\n\\n                                                3\\n                                            \\n\\n                                                \\n                                                cans (14.5 oz each) Green GiantÂ® cut green beans, drained\\n                                            \\n', '\\n\\n                                                1\\n                                            \\n\\n                                                \\n                                                can (2.8 oz) French-fried onions\\n                                            \\n']\n",
      "meat ingredients= []\n",
      "ingredient_quantity (kg)=  []\n",
      "###############################\n",
      "Title:  Lemon Wasabi Sauce Recipes | Yummly\n",
      "filename:  00a0d9ae0901247e8c83fc3c10c8f3bf.html\n",
      "is recipe:  False\n",
      "Lemon Wasabi Sauce Recipes | Yummly\n",
      "###############################\n",
      "Title:  \n",
      "\tOrange Cream Cheese Frosting Recipe - Allrecipes.com\n",
      "\n",
      "filename:  00a149d30ee1176043ed750ac51b4fee.html\n",
      "This recipe is from Allrecipes\n",
      "alternative format used\n",
      "is recipe:  True\n",
      "does this recipe contain meat?  True\n",
      "ingredients =  ['\\n                    3 ounces cream cheese, softened', '\\n                    2 tablespoons butter, softened', '\\n                    1 teaspoon orange zest', '\\n                    2 tablespoons fresh orange juice', \"\\n                    2 1/2 cups confectioners' sugar\", '\\n                    3/4 cup chopped walnuts']\n",
      "meat ingredients= ['walnuts']\n",
      "ingredient_quantity (kg)=  [0]\n",
      "###############################\n",
      "Title:  Orange Curd Recipe : Ina Garten : Recipes : Food Network\n",
      "filename:  00a1cb2c972a31e50718971edd070a50.html\n",
      "This recipe is from FoodNetwork\n",
      "exception\n",
      "###############################\n",
      "Title:  Chocolate Chunk Cookies Recipe : Ina Garten : Recipes : Food Network\n",
      "filename:  00a1d064db9f9a074a2eb7455b0c9a19.html\n",
      "This recipe is from FoodNetwork\n",
      "exception\n",
      "###############################\n",
      "Title:  \n",
      "\tPerfect Fudge Article - Allrecipes.com\n",
      "\n",
      "filename:  00a1d99a6383cdeac3d6c253f8e7cff1.html\n",
      "This recipe is from Allrecipes\n",
      "alternative format used\n",
      "is recipe:  True\n",
      "does this recipe contain meat?  False\n",
      "ingredients =  []\n",
      "meat ingredients= []\n",
      "ingredient_quantity (kg)=  []\n",
      "###############################\n",
      "Title:  \n",
      "\tPerfect Baked Potato Recipe - Allrecipes.com\n",
      "\n",
      "filename:  00a405ea8c3d491b677a995cb558b99f.html\n",
      "This recipe is from Allrecipes\n",
      "alternative format used\n",
      "is recipe:  True\n",
      "does this recipe contain meat?  False\n",
      "ingredients =  ['\\n                    1 medium baking potato', '\\n                    1 teaspoon olive oil', '\\n                    1/2 teaspoon salt', '\\n                    2 teaspoons butter', '\\n                    1 pinch freshly ground black pepper', '\\n                    1/4 cup shredded Cheddar cheese']\n",
      "meat ingredients= []\n",
      "ingredient_quantity (kg)=  []\n"
     ]
    }
   ],
   "source": [
    "#Nadine's loop for all recipes in folder\n",
    "#PLAYGROUND WITH THE SAME LOOP, BUT PRINTS AND STUFF FOR DEBUGGING AND EXPERIMENTING\n",
    "# data has following row structure\n",
    "# RecipeName as Identifier - bool contains_meat - list of co2 ingredients - carbonFootprint - ingredients\n",
    "data=[]\n",
    "step=0\n",
    "for filename in os.listdir(DATA_FOLDER_EXPANDED):\n",
    "    with open(DATA_FOLDER_EXPANDED+filename) as f:\n",
    "        isTrue=False\n",
    "        count_exceptions=0\n",
    "        print('###############################')\n",
    "        \n",
    "        # introduce try/catch such that it does no longer stop, when not recoginzeing letter\n",
    "        try:\n",
    "            page = f.read()\n",
    "            soup = BeautifulSoup(page, 'html.parser')\n",
    "            print('Title: ', soup.title.string)\n",
    "            print('filename: ', filename)\n",
    "            ingredient_wrappers, is_recipe, ingredients, ingredient_amounts = analyse_recipe(soup,page)\n",
    "            print('is recipe: ',is_recipe)\n",
    "            #print(ingredients)\n",
    "            #print(ingredient_amounts)\n",
    "            #different tag for ingredient and different separators in ingredient list between the webpages\n",
    "            if is_recipe:\n",
    "                #Extract all ingredients (and ingredient amounts if available)\n",
    "                #Extract meat ingredients and quantities in kg\n",
    "                meat_ingredients_full, meat_ingredients_base, ingredient_quant,contains_meat=extract_amount(ingredients, ingredient_amounts)\n",
    "                print('does this recipe contain meat? ', contains_meat)\n",
    "                print('ingredients = ',ingredients)\n",
    "                print('meat ingredients=', meat_ingredients_base)\n",
    "                print('ingredient_quantity (kg)= ',ingredient_quant)\n",
    "                #data.append\n",
    "                #add row to dataset only if recipe contains meat\n",
    "                #data.append([soup.title.string, contains_meat, meatlist, carbon_fp(meatlist), ingredients])\n",
    "            else:\n",
    "                print(soup.title.string)\n",
    "        except:\n",
    "            print('exception')\n",
    "            count_exceptions=count_exceptions+1\n",
    "    step=step+1\n",
    "    if step>=10:\n",
    "        break\n",
    "#print(data)\n",
    "# save data as csv "
   ]
  },
  {
   "cell_type": "code",
   "execution_count": 449,
   "metadata": {},
   "outputs": [],
   "source": [
    "# calculate carbon footprint\n",
    "#input ingredients\n",
    "#identify ingredient ammount\n",
    "#output carbon footprint\n",
    "def carbon_fp (l):\n",
    "    \"\"\"\n",
    "    takes a list of ingredients contributing to co2 and returns carbon footprint\n",
    "    \"\"\"\n",
    "    c=len(l)\n",
    "    return c\n",
    "\n"
   ]
  },
  {
   "cell_type": "code",
   "execution_count": null,
   "metadata": {},
   "outputs": [],
   "source": []
  }
 ],
 "metadata": {
  "kernelspec": {
   "display_name": "Python [conda env:ada]",
   "language": "python",
   "name": "conda-env-ada-py"
  },
  "language_info": {
   "codemirror_mode": {
    "name": "ipython",
    "version": 3
   },
   "file_extension": ".py",
   "mimetype": "text/x-python",
   "name": "python",
   "nbconvert_exporter": "python",
   "pygments_lexer": "ipython3",
   "version": "3.6.6"
  }
 },
 "nbformat": 4,
 "nbformat_minor": 2
}
